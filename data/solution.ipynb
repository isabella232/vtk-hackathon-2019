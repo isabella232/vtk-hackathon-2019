{
  "nbformat": 4,
  "nbformat_minor": 0,
  "metadata": {
    "kernelspec": {
      "display_name": "Python 3",
      "language": "python",
      "name": "python3"
    },
    "language_info": {
      "codemirror_mode": {
        "name": "ipython",
        "version": 3
      },
      "file_extension": ".py",
      "mimetype": "text/x-python",
      "name": "python",
      "nbconvert_exporter": "python",
      "pygments_lexer": "ipython3",
      "version": "3.7.3"
    },
    "colab": {
      "name": "solution.ipynb",
      "provenance": [],
      "collapsed_sections": []
    }
  },
  "cells": [
    {
      "cell_type": "markdown",
      "metadata": {
        "id": "MfpzR6s3JnGb",
        "colab_type": "text"
      },
      "source": [
        "# Workshop VTK Amsterdam - Leadtime analysis\n",
        "Summary: Analysing Amsterdam rates dataset for the VTK Workshop"
      ]
    },
    {
      "cell_type": "markdown",
      "metadata": {
        "id": "GdVOEgl1JnGd",
        "colab_type": "text"
      },
      "source": [
        "## Problem statement\n"
      ]
    },
    {
      "cell_type": "markdown",
      "metadata": {
        "id": "dpvG7paHJnGd",
        "colab_type": "text"
      },
      "source": [
        "Given: a rates table for Amsterdam with rates on all available rooms for a set of fixed dimensions (see repository readme).\n",
        "\n",
        "Tasks summary:\n",
        " * Define a query to transform this rates table to an availability table with the count of available rooms per (extract_date_local, from_data_local).   \n",
        " * Export the availability table to a .csv and save to your machine\n",
        " * Analyze the availability table and find the largest drops in availability at unusual lead_times (drops in availability at lead_times shorter than 10 days are normal; hotels gradually drop the prices for rooms which aren't getting sold when they near the arrival date)\n",
        " * Can you explain why the availability for these from_dates started to drop at those specific extract_dates?"
      ]
    },
    {
      "cell_type": "markdown",
      "metadata": {
        "id": "mUefrpeWJnGe",
        "colab_type": "text"
      },
      "source": [
        "## Solution"
      ]
    },
    {
      "cell_type": "markdown",
      "metadata": {
        "id": "MUAztrcyU0Fv",
        "colab_type": "text"
      },
      "source": [
        "The solution will be done using Pandas. This is available to use in the notebook environment on Google Colab. You'll need to install it locally using pip (see the `data/requirements.txt` file in the repository)."
      ]
    },
    {
      "cell_type": "markdown",
      "metadata": {
        "id": "l6kai0HsJnGf",
        "colab_type": "text"
      },
      "source": [
        "### Transform & Export from BigQuery.\n",
        "\n",
        "Write a query which transforms the rates table so you get a table with for each arrival date and extract date combo, the number of available rooms. Let's call this transformed data the `availability data`.\n",
        "\n",
        "Export the resulting table: download it as a csv file and make sure it is available for the notebook. You can upload it on Colab.\n",
        "\n"
      ]
    },
    {
      "cell_type": "markdown",
      "metadata": {
        "id": "TLWfOB6MJnGg",
        "colab_type": "text"
      },
      "source": [
        ""
      ]
    },
    {
      "cell_type": "markdown",
      "metadata": {
        "id": "d-NkpM3vJnGg",
        "colab_type": "text"
      },
      "source": [
        "### Analysis using Pandas."
      ]
    },
    {
      "cell_type": "code",
      "metadata": {
        "id": "phm5ktyMJnGh",
        "colab_type": "code",
        "colab": {}
      },
      "source": [
        "import pandas as pd\n",
        "import matplotlib.pyplot as plt\n",
        "import numpy as np\n",
        "import os"
      ],
      "execution_count": 0,
      "outputs": []
    },
    {
      "cell_type": "markdown",
      "metadata": {
        "id": "6yRob_MTKvaq",
        "colab_type": "text"
      },
      "source": [
        "### Read the csv using Pandas. Print the first few rows of the dataset for inspection."
      ]
    },
    {
      "cell_type": "code",
      "metadata": {
        "id": "dA7V04QAJnGj",
        "colab_type": "code",
        "colab": {}
      },
      "source": [
        ""
      ],
      "execution_count": 0,
      "outputs": []
    },
    {
      "cell_type": "code",
      "metadata": {
        "id": "Q06hiurrJnGm",
        "colab_type": "code",
        "colab": {}
      },
      "source": [
        ""
      ],
      "execution_count": 0,
      "outputs": []
    },
    {
      "cell_type": "markdown",
      "metadata": {
        "id": "v0QxCrypLQIJ",
        "colab_type": "text"
      },
      "source": [
        "### How many rows (so from_date_local, extract_date_local pairs) does the dataset contain?"
      ]
    },
    {
      "cell_type": "code",
      "metadata": {
        "id": "ENg7YAEHJnGo",
        "colab_type": "code",
        "colab": {}
      },
      "source": [
        ""
      ],
      "execution_count": 0,
      "outputs": []
    },
    {
      "cell_type": "code",
      "metadata": {
        "id": "oyrWHUgKJnGr",
        "colab_type": "code",
        "colab": {}
      },
      "source": [
        "# Make a folder to save plots we generate\n",
        "figures_folder = \"figures\"\n",
        "if not os.path.exists(figures_folder):\n",
        "    os.makedirs(figures_folder)"
      ],
      "execution_count": 0,
      "outputs": []
    },
    {
      "cell_type": "markdown",
      "metadata": {
        "id": "Z8pI7becLmop",
        "colab_type": "text"
      },
      "source": [
        "### Make a plot of the dataset.\n",
        "\n",
        "We need for each from_date_local the evolution in the available rooms over the course of all the extract_date_local (all meaning all the extract dates for a particular from_date).\n",
        "\n",
        "Each line on your graph is a certain from date, and in general you'll see the availability gradually dropping for each from_date when the extract_date is progressing. This is because rooms are being sold out when they are coming closer to the arrival date. At the end of each line you can see an increase, as there are some last-minute rooms being put on the market in an effort to sell them."
      ]
    },
    {
      "cell_type": "code",
      "metadata": {
        "id": "D0rII7mhJnGt",
        "colab_type": "code",
        "colab": {}
      },
      "source": [
        "plt.figure(figsize=(30, 10))\n",
        "\n",
        "# add your plotting code here\n",
        "\n",
        "\n",
        "plt.title(\"Availability change \")\n",
        "plt.title(\"Count of available rooms over all extract_dates coloured by from_date\")\n",
        "plt.tight_layout()\n",
        "plt.savefig(\"figures/count_all_lead_times.png\")"
      ],
      "execution_count": 0,
      "outputs": []
    },
    {
      "cell_type": "markdown",
      "metadata": {
        "id": "Qkgvg0TgO1Ox",
        "colab_type": "text"
      },
      "source": [
        "The resulting graph should look like the image included in the repository readme. "
      ]
    },
    {
      "cell_type": "markdown",
      "metadata": {
        "id": "CB5_Qrc6PwR3",
        "colab_type": "text"
      },
      "source": [
        "### Now filter out the data point from lead times less then 10 days, so when the difference between the arrival date and the from date is less than 10 days. These availability drops are normal and of no interest to us."
      ]
    },
    {
      "cell_type": "code",
      "metadata": {
        "id": "LwvW42b-JnGv",
        "colab_type": "code",
        "colab": {}
      },
      "source": [
        ""
      ],
      "execution_count": 0,
      "outputs": []
    },
    {
      "cell_type": "markdown",
      "metadata": {
        "id": "VSeWxkLSQmqO",
        "colab_type": "text"
      },
      "source": [
        "Make the same plot again as in the previous step, which will be less crowded now."
      ]
    },
    {
      "cell_type": "code",
      "metadata": {
        "id": "kiYldzHmJnGy",
        "colab_type": "code",
        "colab": {}
      },
      "source": [
        "plt.figure(figsize=(30, 10))\n",
        "\n",
        "# Add your plotting code here\n",
        "\n",
        "plt.title(\"Availability change \")\n",
        "plt.title(\"Count of available rooms over all extract_dates coloured by from_date (filtered on lead_times < -10 ) \")\n",
        "plt.tight_layout()\n",
        "plt.savefig(\"figures/count_filtered_lead_times.png\")"
      ],
      "execution_count": 0,
      "outputs": []
    },
    {
      "cell_type": "markdown",
      "metadata": {
        "id": "XS5HHjNMRGN2",
        "colab_type": "text"
      },
      "source": [
        "### Calculate for each of the remaining from_dates the difference between the maximum number of availability and the minimum which we observe in the dataset. Print the highest and lowest differences."
      ]
    },
    {
      "cell_type": "code",
      "metadata": {
        "id": "ApO3hp4cJnG0",
        "colab_type": "code",
        "colab": {}
      },
      "source": [
        ""
      ],
      "execution_count": 0,
      "outputs": []
    },
    {
      "cell_type": "markdown",
      "metadata": {
        "id": "czc4-m5UJnG2",
        "colab_type": "text"
      },
      "source": [
        "### Plot these differences per from_date. You'll see some peaks in the graph. These peaks indicate from_dates where there is a large difference in availability, possibly due to an unusual drop in availability over the course of a few days."
      ]
    },
    {
      "cell_type": "code",
      "metadata": {
        "id": "vKvaw7mSJnG3",
        "colab_type": "code",
        "colab": {}
      },
      "source": [
        ""
      ],
      "execution_count": 0,
      "outputs": []
    },
    {
      "cell_type": "markdown",
      "metadata": {
        "id": "xcEyjB5qJnG5",
        "colab_type": "text"
      },
      "source": [
        "### Another approach: look at the difference in availability for a from_date over a period of a (window of a) few extract_days and look for large differences. A large difference indicates a steep drop in availability over a certain window of days."
      ]
    },
    {
      "cell_type": "code",
      "metadata": {
        "id": "JHAaa93TJnG6",
        "colab_type": "code",
        "colab": {}
      },
      "source": [
        ""
      ],
      "execution_count": 0,
      "outputs": []
    },
    {
      "cell_type": "code",
      "metadata": {
        "id": "6oxCAmiEJnG8",
        "colab_type": "code",
        "colab": {}
      },
      "source": [
        ""
      ],
      "execution_count": 0,
      "outputs": []
    },
    {
      "cell_type": "markdown",
      "metadata": {
        "id": "cH1LHpgSS3CU",
        "colab_type": "text"
      },
      "source": [
        "### Plot this, it should look very similar to the previous plot, with peaks at the same dates"
      ]
    },
    {
      "cell_type": "code",
      "metadata": {
        "id": "paL0Q3V2JnG-",
        "colab_type": "code",
        "colab": {}
      },
      "source": [
        ""
      ],
      "execution_count": 0,
      "outputs": []
    },
    {
      "cell_type": "markdown",
      "metadata": {
        "id": "hQGUq_UpJnHA",
        "colab_type": "text"
      },
      "source": [
        "#### When looking at the max difference in availability compared to 5 days ago, two from_dates are huge outliers. Which are these? Plot the evolution of their availability. You'll see that one of them has a steep dive in availability over the course of a few days, and the other one has a significantly steeper decline in availability compared to previously starting at a certain extrac_date."
      ]
    },
    {
      "cell_type": "code",
      "metadata": {
        "id": "9e_p9Bd1JnHB",
        "colab_type": "code",
        "colab": {}
      },
      "source": [
        ""
      ],
      "execution_count": 0,
      "outputs": []
    },
    {
      "cell_type": "code",
      "metadata": {
        "id": "Nwzj6eujJnHD",
        "colab_type": "code",
        "colab": {}
      },
      "source": [
        ""
      ],
      "execution_count": 0,
      "outputs": []
    },
    {
      "cell_type": "code",
      "metadata": {
        "id": "6cvcrIolJnHF",
        "colab_type": "code",
        "colab": {}
      },
      "source": [
        ""
      ],
      "execution_count": 0,
      "outputs": []
    },
    {
      "cell_type": "code",
      "metadata": {
        "id": "GmazcTrfJnHH",
        "colab_type": "code",
        "colab": {}
      },
      "source": [
        ""
      ],
      "execution_count": 0,
      "outputs": []
    },
    {
      "cell_type": "markdown",
      "metadata": {
        "id": "Iji3Z0xMJnHJ",
        "colab_type": "text"
      },
      "source": [
        "# Explanation"
      ]
    },
    {
      "cell_type": "markdown",
      "metadata": {
        "id": "epSesnkpTic1",
        "colab_type": "text"
      },
      "source": [
        "### For each of the 2 selected from_dates, look at their availability evolution. Query the events table you have in BigQuery to look for events which might be related to this behaviour."
      ]
    },
    {
      "cell_type": "markdown",
      "metadata": {
        "id": "XEzvX41TJnHL",
        "colab_type": "text"
      },
      "source": [
        "### Date 1:"
      ]
    },
    {
      "cell_type": "code",
      "metadata": {
        "id": "-YfPfMqXJnHL",
        "colab_type": "code",
        "colab": {}
      },
      "source": [
        ""
      ],
      "execution_count": 0,
      "outputs": []
    },
    {
      "cell_type": "markdown",
      "metadata": {
        "id": "6ErvMGhzJnHO",
        "colab_type": "text"
      },
      "source": [
        "#### Quering events on this from_date_local in bigquery:"
      ]
    },
    {
      "cell_type": "markdown",
      "metadata": {
        "id": "4PmqLHwoJnHP",
        "colab_type": "text"
      },
      "source": [
        ""
      ]
    },
    {
      "cell_type": "markdown",
      "metadata": {
        "id": "QldmYl1QJnHQ",
        "colab_type": "text"
      },
      "source": [
        "#### Returns the next table: "
      ]
    },
    {
      "cell_type": "code",
      "metadata": {
        "id": "6J9PZjjKJnHQ",
        "colab_type": "code",
        "colab": {}
      },
      "source": [
        ""
      ],
      "execution_count": 0,
      "outputs": []
    },
    {
      "cell_type": "code",
      "metadata": {
        "id": "idtu1I84JnHV",
        "colab_type": "code",
        "colab": {}
      },
      "source": [
        ""
      ],
      "execution_count": 0,
      "outputs": []
    },
    {
      "cell_type": "code",
      "metadata": {
        "id": "H69Bj8M2JnHX",
        "colab_type": "code",
        "colab": {}
      },
      "source": [
        ""
      ],
      "execution_count": 0,
      "outputs": []
    },
    {
      "cell_type": "markdown",
      "metadata": {
        "id": "mRRz98rdJnHa",
        "colab_type": "text"
      },
      "source": [
        "#### Explanation of the price drop?\n"
      ]
    },
    {
      "cell_type": "code",
      "metadata": {
        "id": "eVHMfyuwJnHa",
        "colab_type": "code",
        "colab": {}
      },
      "source": [
        ""
      ],
      "execution_count": 0,
      "outputs": []
    },
    {
      "cell_type": "markdown",
      "metadata": {
        "id": "wi4LDuWSJnHc",
        "colab_type": "text"
      },
      "source": [
        "### Date 2:"
      ]
    },
    {
      "cell_type": "code",
      "metadata": {
        "id": "GsnQvtnOJnHd",
        "colab_type": "code",
        "colab": {}
      },
      "source": [
        ""
      ],
      "execution_count": 0,
      "outputs": []
    },
    {
      "cell_type": "markdown",
      "metadata": {
        "id": "mvhbf7QvJnHe",
        "colab_type": "text"
      },
      "source": [
        "#### Querying events on this day in bigquery:"
      ]
    },
    {
      "cell_type": "markdown",
      "metadata": {
        "id": "iPK9NpV6JnHf",
        "colab_type": "text"
      },
      "source": [
        ""
      ]
    },
    {
      "cell_type": "markdown",
      "metadata": {
        "id": "pw45csAfJnHf",
        "colab_type": "text"
      },
      "source": [
        "#### Returns the next table: "
      ]
    },
    {
      "cell_type": "code",
      "metadata": {
        "id": "2NHYlOSUZa7T",
        "colab_type": "code",
        "colab": {}
      },
      "source": [
        ""
      ],
      "execution_count": 0,
      "outputs": []
    },
    {
      "cell_type": "code",
      "metadata": {
        "id": "6t_yfbKRJnHg",
        "colab_type": "code",
        "colab": {}
      },
      "source": [
        ""
      ],
      "execution_count": 0,
      "outputs": []
    },
    {
      "cell_type": "markdown",
      "metadata": {
        "id": "UlUmzXl6JnHi",
        "colab_type": "text"
      },
      "source": [
        "#### Explanation?\n"
      ]
    },
    {
      "cell_type": "code",
      "metadata": {
        "id": "y5sA6qksJnHj",
        "colab_type": "code",
        "colab": {}
      },
      "source": [
        ""
      ],
      "execution_count": 0,
      "outputs": []
    }
  ]
}